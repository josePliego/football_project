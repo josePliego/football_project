{
 "cells": [
  {
   "cell_type": "markdown",
   "metadata": {},
   "source": [
    "# Project Title\n",
    "*Johnny Antoun*, *Jackie Du*, *Richard Fremgen*, *Jose Pilego San Martin*"
   ]
  },
  {
   "cell_type": "markdown",
   "metadata": {},
   "source": [
    "## Introduction\n",
    "\n",
    "Soccer. Football. Fútbol. Fußball. However you pronounce the sport, soccer is widely regarded as the world’s most popular, with an estimated 4 billion fans across the globe. At the center of the men’s sport is the FIFA World Cup, an international quadrennial soccer competition where over 200 countries compete to qualify for one of the 32 spots that make the final tournament. This year being a World Cup year, coupled with our team members being avid fans of the game was the driving motivation for deciding to center this project around the analysis of a soccer dataset. The data used in this project is taken from an opensource project that created soccer logs to record every spatio-temporal match event that took place during the 2017-2018 club soccer seasons in England, France, Germany, Spain, and Italy. For every league game that occurred, each individual match event (e.g., shots, fouls, passes, duels) was recorded, along with the time and location on the pitch for which it took place. From this data, one can begin to deduce analytically how a particular team or league strategize and score goals. \n",
    "\n",
    "On a fundamental level, a soccer match is won by simply scoring more goals than your opponent. Thus, gametime tactics revolve around increasing a team’s probability of scoring, as player position and angle relative to the opposing goal are imperative when trying to maximize the odds of one scoring. Due to the immense dimensions of a soccer goal (8 ft by 24 ft), professional goalkeepers are trained to cut off or reduce the angle when an opposing player has the ball near the penalty area. Watch any professional goalkeeper play and you will see that they constantly adjust their position and angle relative to the play, rather than just stand on the goal line. With that in mind, our team was first interested in building an expected goals model to calculate the likelihood of scoring from different areas and angles on the pitch. This model could then be used to compare player and team performance for the given season. \n",
    "\n",
    "While goals in soccer are usually the most memorable parts of the game, passes are the connective tissue that create all goal scoring opportunities. It is widely known that different countries historically employ different methodologies of play and passing styles to best increase their chances of winning. The World Cup is the best evidence of such a feat, a match between England vs. Spain will reveal a multitude of differences between attacking styles and the types of passes made. A generic comparison of the different styles is below:\n",
    "* **England**: less reliance on technique and more focus on physicality, with emphasis on long balls and set pieces.\n",
    "\n",
    "* **Italy**: generally slower and tactical with older players; heavy emphasis on good defensive play.\n",
    "\n",
    "* **Germany**: efficient, attacking football; teams are generally well-organized, professional, resourceful, and clinical.\n",
    "\n",
    "* **Spain**: emphasizes keeping possession and creating space through movement. Generally the players in Spain have more time on the ball, allowing them to show the technical side of their game. \n",
    "\n",
    "* **France**: mix of the different styles of play of the other top 4 leagues.\n",
    "\n",
    "While collecting data on each international's team game performance is one approach to validate whether a particular country truly plays a particular style of play, the problem with international soccer is that it happens so infrequently, making data collection a challenge to obtain an adequate sample size. Rather than trying to extrapolate from only a handful of games for each country, we decided to use the soccer log dataset to evaluate differences with how each league plays the game from a passing perspective. Then we can observe whether or not such passing patterns for each league coincide with the traditional tactics employed by the native country style of play. Using the league data provides an adequate sample size for comparison, since each leagues consists for 18 or 20 teams, that each play one another twice a season, all of which is collected in our dataset. "
   ]
  },
  {
   "cell_type": "markdown",
   "metadata": {},
   "source": [
    "## Methods / Implementation"
   ]
  },
  {
   "cell_type": "markdown",
   "metadata": {},
   "source": [
    "## Discussion & Conclusions"
   ]
  },
  {
   "cell_type": "markdown",
   "metadata": {},
   "source": []
  }
 ],
 "metadata": {
  "kernelspec": {
   "display_name": "Python 3 (ipykernel)",
   "language": "python",
   "name": "python3"
  },
  "language_info": {
   "codemirror_mode": {
    "name": "ipython",
    "version": 3
   },
   "file_extension": ".py",
   "mimetype": "text/x-python",
   "name": "python",
   "nbconvert_exporter": "python",
   "pygments_lexer": "ipython3",
   "version": "3.10.4"
  }
 },
 "nbformat": 4,
 "nbformat_minor": 4
}
